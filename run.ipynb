{
 "cells": [
  {
   "cell_type": "code",
   "execution_count": 2,
   "metadata": {
    "colab": {
     "base_uri": "https://localhost:8080/"
    },
    "executionInfo": {
     "elapsed": 37491,
     "status": "ok",
     "timestamp": 1739589901240,
     "user": {
      "displayName": "Thành Đạt Tô",
      "userId": "00907423653334339718"
     },
     "user_tz": -420
    },
    "id": "n1Tt6u5mopnp",
    "outputId": "492682c7-4377-4a9e-ce36-368133389341"
   },
   "outputs": [
    {
     "name": "stdout",
     "output_type": "stream",
     "text": [
      "Mounted at /content/drive\n"
     ]
    }
   ],
   "source": [
    "from google.colab import drive\n",
    "drive.mount('/content/drive')"
   ]
  },
  {
   "cell_type": "code",
   "execution_count": 1,
   "metadata": {
    "colab": {
     "base_uri": "https://localhost:8080/"
    },
    "executionInfo": {
     "elapsed": 442,
     "status": "ok",
     "timestamp": 1739590395186,
     "user": {
      "displayName": "Thành Đạt Tô",
      "userId": "00907423653334339718"
     },
     "user_tz": -420
    },
    "id": "2wiEatFMo1B1",
    "outputId": "2192c7f3-5926-4eae-ee09-b40a685a789d"
   },
   "outputs": [
    {
     "name": "stdout",
     "output_type": "stream",
     "text": [
      "/content/drive/MyDrive/Colab Notebooks/Practice/Footballer_tracking/football_tracking\n"
     ]
    }
   ],
   "source": [
    "%cd ./drive/MyDrive/Colab Notebooks/Practice/Footballer_tracking/football_tracking"
   ]
  },
  {
   "cell_type": "code",
   "execution_count": 2,
   "metadata": {
    "colab": {
     "base_uri": "https://localhost:8080/",
     "height": 1000
    },
    "executionInfo": {
     "elapsed": 158046,
     "status": "ok",
     "timestamp": 1739590099706,
     "user": {
      "displayName": "Thành Đạt Tô",
      "userId": "00907423653334339718"
     },
     "user_tz": -420
    },
    "id": "FzQlSWdsoTuw",
    "outputId": "1f88ac66-29bc-46f6-d5bc-26824eda7cc4"
   },
   "outputs": [
    {
     "name": "stdout",
     "output_type": "stream",
     "text": [
      "\u001b[33mWARNING: Ignoring invalid distribution ~vidia-cudnn-cu12 (/usr/local/lib/python3.11/dist-packages)\u001b[0m\u001b[33m\n",
      "\u001b[0m\u001b[33mWARNING: Ignoring invalid distribution ~vidia-cudnn-cu12 (/usr/local/lib/python3.11/dist-packages)\u001b[0m\u001b[33m\n",
      "\u001b[0mCollecting ultralytics (from -r requirements.txt (line 1))\n",
      "  Using cached ultralytics-8.3.75-py3-none-any.whl.metadata (35 kB)\n",
      "Collecting roboflow (from -r requirements.txt (line 2))\n",
      "  Using cached roboflow-1.1.54-py3-none-any.whl.metadata (9.7 kB)\n",
      "Requirement already satisfied: opencv-python in /usr/local/lib/python3.11/dist-packages (from -r requirements.txt (line 3)) (4.10.0.84)\n",
      "Collecting supervision (from -r requirements.txt (line 4))\n",
      "  Using cached supervision-0.25.1-py3-none-any.whl.metadata (14 kB)\n",
      "Collecting inference-gpu (from -r requirements.txt (line 5))\n",
      "  Using cached inference_gpu-0.37.1-py3-none-any.whl.metadata (24 kB)\n",
      "Collecting umap-learn (from -r requirements.txt (line 6))\n",
      "  Using cached umap_learn-0.5.7-py3-none-any.whl.metadata (21 kB)\n",
      "Requirement already satisfied: tqdm in /usr/local/lib/python3.11/dist-packages (from -r requirements.txt (line 7)) (4.67.1)\n",
      "Requirement already satisfied: transformers in /usr/local/lib/python3.11/dist-packages (from -r requirements.txt (line 8)) (4.48.3)\n",
      "Requirement already satisfied: numpy<=2.1.1,>=1.23.0 in /usr/local/lib/python3.11/dist-packages (from ultralytics->-r requirements.txt (line 1)) (1.26.4)\n",
      "Requirement already satisfied: matplotlib>=3.3.0 in /usr/local/lib/python3.11/dist-packages (from ultralytics->-r requirements.txt (line 1)) (3.10.0)\n",
      "Requirement already satisfied: pillow>=7.1.2 in /usr/local/lib/python3.11/dist-packages (from ultralytics->-r requirements.txt (line 1)) (10.4.0)\n",
      "Requirement already satisfied: pyyaml>=5.3.1 in /usr/local/lib/python3.11/dist-packages (from ultralytics->-r requirements.txt (line 1)) (6.0.2)\n",
      "Requirement already satisfied: requests>=2.23.0 in /usr/local/lib/python3.11/dist-packages (from ultralytics->-r requirements.txt (line 1)) (2.32.3)\n",
      "Requirement already satisfied: scipy>=1.4.1 in /usr/local/lib/python3.11/dist-packages (from ultralytics->-r requirements.txt (line 1)) (1.13.1)\n",
      "Requirement already satisfied: torch>=1.8.0 in /usr/local/lib/python3.11/dist-packages (from ultralytics->-r requirements.txt (line 1)) (2.5.1+cu124)\n",
      "Requirement already satisfied: torchvision>=0.9.0 in /usr/local/lib/python3.11/dist-packages (from ultralytics->-r requirements.txt (line 1)) (0.20.1+cu124)\n",
      "Requirement already satisfied: psutil in /usr/local/lib/python3.11/dist-packages (from ultralytics->-r requirements.txt (line 1)) (5.9.5)\n",
      "Requirement already satisfied: py-cpuinfo in /usr/local/lib/python3.11/dist-packages (from ultralytics->-r requirements.txt (line 1)) (9.0.0)\n",
      "Requirement already satisfied: pandas>=1.1.4 in /usr/local/lib/python3.11/dist-packages (from ultralytics->-r requirements.txt (line 1)) (2.2.2)\n",
      "Requirement already satisfied: seaborn>=0.11.0 in /usr/local/lib/python3.11/dist-packages (from ultralytics->-r requirements.txt (line 1)) (0.13.2)\n",
      "Collecting ultralytics-thop>=2.0.0 (from ultralytics->-r requirements.txt (line 1))\n",
      "  Using cached ultralytics_thop-2.0.14-py3-none-any.whl.metadata (9.4 kB)\n",
      "Requirement already satisfied: certifi in /usr/local/lib/python3.11/dist-packages (from roboflow->-r requirements.txt (line 2)) (2025.1.31)\n",
      "Requirement already satisfied: idna==3.7 in /usr/local/lib/python3.11/dist-packages (from roboflow->-r requirements.txt (line 2)) (3.7)\n",
      "Requirement already satisfied: cycler in /usr/local/lib/python3.11/dist-packages (from roboflow->-r requirements.txt (line 2)) (0.12.1)\n",
      "Requirement already satisfied: kiwisolver>=1.3.1 in /usr/local/lib/python3.11/dist-packages (from roboflow->-r requirements.txt (line 2)) (1.4.8)\n",
      "Requirement already satisfied: opencv-python-headless==4.10.0.84 in /usr/local/lib/python3.11/dist-packages (from roboflow->-r requirements.txt (line 2)) (4.10.0.84)\n",
      "Requirement already satisfied: python-dateutil in /usr/local/lib/python3.11/dist-packages (from roboflow->-r requirements.txt (line 2)) (2.8.2)\n",
      "Requirement already satisfied: python-dotenv in /usr/local/lib/python3.11/dist-packages (from roboflow->-r requirements.txt (line 2)) (1.0.1)\n",
      "Requirement already satisfied: six in /usr/local/lib/python3.11/dist-packages (from roboflow->-r requirements.txt (line 2)) (1.17.0)\n",
      "Requirement already satisfied: urllib3>=1.26.6 in /usr/local/lib/python3.11/dist-packages (from roboflow->-r requirements.txt (line 2)) (2.3.0)\n",
      "Requirement already satisfied: requests-toolbelt in /usr/local/lib/python3.11/dist-packages (from roboflow->-r requirements.txt (line 2)) (1.0.0)\n",
      "Requirement already satisfied: filetype in /usr/local/lib/python3.11/dist-packages (from roboflow->-r requirements.txt (line 2)) (1.2.0)\n",
      "Requirement already satisfied: contourpy>=1.0.7 in /usr/local/lib/python3.11/dist-packages (from supervision->-r requirements.txt (line 4)) (1.3.1)\n",
      "Requirement already satisfied: defusedxml<0.8.0,>=0.7.1 in /usr/local/lib/python3.11/dist-packages (from supervision->-r requirements.txt (line 4)) (0.7.1)\n",
      "Collecting aiortc~=1.9.0 (from inference-gpu->-r requirements.txt (line 5))\n",
      "  Using cached aiortc-1.9.0-cp38-abi3-manylinux_2_17_x86_64.manylinux2014_x86_64.whl.metadata (5.5 kB)\n",
      "Requirement already satisfied: APScheduler<4.0.0,>=3.10.1 in /usr/local/lib/python3.11/dist-packages (from inference-gpu->-r requirements.txt (line 5)) (3.11.0)\n",
      "Collecting asyncua~=1.1.5 (from inference-gpu->-r requirements.txt (line 5))\n",
      "  Using cached asyncua-1.1.5-py3-none-any.whl.metadata (9.5 kB)\n",
      "Requirement already satisfied: cython~=3.0.0 in /usr/local/lib/python3.11/dist-packages (from inference-gpu->-r requirements.txt (line 5)) (3.0.12)\n",
      "Collecting fastapi<0.111,>=0.100 (from inference-gpu->-r requirements.txt (line 5))\n",
      "  Using cached fastapi-0.110.3-py3-none-any.whl.metadata (24 kB)\n",
      "Requirement already satisfied: opencv-contrib-python<=4.10.0.84,>=4.8.1.78 in /usr/local/lib/python3.11/dist-packages (from inference-gpu->-r requirements.txt (line 5)) (4.10.0.84)\n",
      "Collecting prometheus-fastapi-instrumentator<=6.0.0 (from inference-gpu->-r requirements.txt (line 5))\n",
      "  Using cached prometheus_fastapi_instrumentator-6.0.0-py3-none-any.whl.metadata (13 kB)\n",
      "Requirement already satisfied: redis~=5.0.0 in /usr/local/lib/python3.11/dist-packages (from inference-gpu->-r requirements.txt (line 5)) (5.0.8)\n",
      "Requirement already satisfied: rich<13.10.0,>=13.0.0 in /usr/local/lib/python3.11/dist-packages (from inference-gpu->-r requirements.txt (line 5)) (13.0.1)\n",
      "Requirement already satisfied: pybase64~=1.0.0 in /usr/local/lib/python3.11/dist-packages (from inference-gpu->-r requirements.txt (line 5)) (1.0.2)\n",
      "Collecting scikit-image<=0.24.0,>=0.19.0 (from inference-gpu->-r requirements.txt (line 5))\n",
      "  Using cached scikit_image-0.24.0-cp311-cp311-manylinux_2_17_x86_64.manylinux2014_x86_64.whl.metadata (14 kB)\n",
      "Requirement already satisfied: wheel<=0.45.0,>=0.38.1 in /usr/local/lib/python3.11/dist-packages (from inference-gpu->-r requirements.txt (line 5)) (0.45.0)\n",
      "Requirement already satisfied: setuptools>=70.0.0 in /usr/local/lib/python3.11/dist-packages (from inference-gpu->-r requirements.txt (line 5)) (75.1.0)\n",
      "Requirement already satisfied: networkx~=3.1 in /usr/local/lib/python3.11/dist-packages (from inference-gpu->-r requirements.txt (line 5)) (3.4.2)\n",
      "Requirement already satisfied: pydantic~=2.6 in /usr/local/lib/python3.11/dist-packages (from inference-gpu->-r requirements.txt (line 5)) (2.10.6)\n",
      "Collecting pydantic-settings~=2.2 (from inference-gpu->-r requirements.txt (line 5))\n",
      "  Using cached pydantic_settings-2.7.1-py3-none-any.whl.metadata (3.5 kB)\n",
      "Requirement already satisfied: openai<2.0.0,>=1.12.0 in /usr/local/lib/python3.11/dist-packages (from inference-gpu->-r requirements.txt (line 5)) (1.61.1)\n",
      "Requirement already satisfied: structlog<25.0.0,>=24.1.0 in /usr/local/lib/python3.11/dist-packages (from inference-gpu->-r requirements.txt (line 5)) (24.4.0)\n",
      "Requirement already satisfied: zxing-cpp~=2.2.0 in /usr/local/lib/python3.11/dist-packages (from inference-gpu->-r requirements.txt (line 5)) (2.2.0)\n",
      "Collecting boto3<=1.35.60 (from inference-gpu->-r requirements.txt (line 5))\n",
      "  Using cached boto3-1.35.60-py3-none-any.whl.metadata (6.7 kB)\n",
      "Requirement already satisfied: typing_extensions<=4.12.2,>=4.8.0 in /usr/local/lib/python3.11/dist-packages (from inference-gpu->-r requirements.txt (line 5)) (4.12.2)\n",
      "Requirement already satisfied: pydot~=2.0.0 in /usr/local/lib/python3.11/dist-packages (from inference-gpu->-r requirements.txt (line 5)) (2.0.0)\n",
      "Requirement already satisfied: shapely<2.1.0,>=2.0.0 in /usr/local/lib/python3.11/dist-packages (from inference-gpu->-r requirements.txt (line 5)) (2.0.7)\n",
      "Collecting tldextract~=5.1.2 (from inference-gpu->-r requirements.txt (line 5))\n",
      "  Using cached tldextract-5.1.3-py3-none-any.whl.metadata (11 kB)\n",
      "Requirement already satisfied: packaging~=24.0 in /usr/local/lib/python3.11/dist-packages (from inference-gpu->-r requirements.txt (line 5)) (24.2)\n",
      "Collecting anthropic~=0.34.2 (from inference-gpu->-r requirements.txt (line 5))\n",
      "  Using cached anthropic-0.34.2-py3-none-any.whl.metadata (18 kB)\n",
      "Requirement already satisfied: paho-mqtt~=1.6.1 in /usr/local/lib/python3.11/dist-packages (from inference-gpu->-r requirements.txt (line 5)) (1.6.1)\n",
      "Requirement already satisfied: pytest<9.0.0,>=8.0.0 in /usr/local/lib/python3.11/dist-packages (from inference-gpu->-r requirements.txt (line 5)) (8.3.4)\n",
      "Collecting tokenizers<=0.20.3,>=0.19.0 (from inference-gpu->-r requirements.txt (line 5))\n",
      "  Using cached tokenizers-0.20.3-cp311-cp311-manylinux_2_17_x86_64.manylinux2014_x86_64.whl.metadata (6.7 kB)\n",
      "Requirement already satisfied: slack-sdk~=3.33.4 in /usr/local/lib/python3.11/dist-packages (from inference-gpu->-r requirements.txt (line 5)) (3.33.5)\n",
      "Collecting twilio~=9.3.7 (from inference-gpu->-r requirements.txt (line 5))\n",
      "  Using cached twilio-9.3.8-py2.py3-none-any.whl.metadata (12 kB)\n",
      "Collecting httpx<0.28.0,>=0.25.1 (from inference-gpu->-r requirements.txt (line 5))\n",
      "  Using cached httpx-0.27.2-py3-none-any.whl.metadata (7.1 kB)\n",
      "Requirement already satisfied: pylogix==1.0.5 in /usr/local/lib/python3.11/dist-packages (from inference-gpu->-r requirements.txt (line 5)) (1.0.5)\n",
      "Requirement already satisfied: pymodbus<=3.8.3,>=3.6.9 in /usr/local/lib/python3.11/dist-packages (from inference-gpu->-r requirements.txt (line 5)) (3.8.3)\n",
      "Requirement already satisfied: backoff~=2.2.0 in /usr/local/lib/python3.11/dist-packages (from inference-gpu->-r requirements.txt (line 5)) (2.2.1)\n",
      "Collecting onnxruntime-gpu<1.20.0,>=1.15.1 (from inference-gpu->-r requirements.txt (line 5))\n",
      "  Using cached onnxruntime_gpu-1.19.2-cp311-cp311-manylinux_2_27_x86_64.manylinux_2_28_x86_64.whl.metadata (4.5 kB)\n",
      "Collecting docker<8.0.0,>=7.0.0 (from inference-gpu->-r requirements.txt (line 5))\n",
      "  Using cached docker-7.1.0-py3-none-any.whl.metadata (3.8 kB)\n",
      "Requirement already satisfied: typer<=0.12.5,>=0.9.0 in /usr/local/lib/python3.11/dist-packages (from inference-gpu->-r requirements.txt (line 5)) (0.12.5)\n",
      "Requirement already satisfied: nvidia-ml-py<13.0.0 in /usr/local/lib/python3.11/dist-packages (from inference-gpu->-r requirements.txt (line 5)) (12.570.86)\n",
      "Collecting aiohttp<=3.10.11,>=3.9.0 (from inference-gpu->-r requirements.txt (line 5))\n",
      "  Using cached aiohttp-3.10.11-cp311-cp311-manylinux_2_17_x86_64.manylinux2014_x86_64.whl.metadata (7.7 kB)\n",
      "Collecting dataclasses-json~=0.6.0 (from inference-gpu->-r requirements.txt (line 5))\n",
      "  Using cached dataclasses_json-0.6.7-py3-none-any.whl.metadata (25 kB)\n",
      "Requirement already satisfied: scikit-learn>=0.22 in /usr/local/lib/python3.11/dist-packages (from umap-learn->-r requirements.txt (line 6)) (1.6.1)\n",
      "Requirement already satisfied: numba>=0.51.2 in /usr/local/lib/python3.11/dist-packages (from umap-learn->-r requirements.txt (line 6)) (0.61.0)\n",
      "Collecting pynndescent>=0.5 (from umap-learn->-r requirements.txt (line 6))\n",
      "  Using cached pynndescent-0.5.13-py3-none-any.whl.metadata (6.8 kB)\n",
      "Requirement already satisfied: filelock in /usr/local/lib/python3.11/dist-packages (from transformers->-r requirements.txt (line 8)) (3.17.0)\n",
      "Requirement already satisfied: huggingface-hub<1.0,>=0.24.0 in /usr/local/lib/python3.11/dist-packages (from transformers->-r requirements.txt (line 8)) (0.28.1)\n",
      "Requirement already satisfied: regex!=2019.12.17 in /usr/local/lib/python3.11/dist-packages (from transformers->-r requirements.txt (line 8)) (2024.11.6)\n",
      "INFO: pip is looking at multiple versions of transformers to determine which version is compatible with other requirements. This could take a while.\n",
      "Collecting transformers (from -r requirements.txt (line 8))\n",
      "  Using cached transformers-4.49.0-py3-none-any.whl.metadata (44 kB)\n",
      "  Using cached transformers-4.48.2-py3-none-any.whl.metadata (44 kB)\n",
      "  Using cached transformers-4.48.1-py3-none-any.whl.metadata (44 kB)\n",
      "  Using cached transformers-4.48.0-py3-none-any.whl.metadata (44 kB)\n",
      "  Using cached transformers-4.47.1-py3-none-any.whl.metadata (44 kB)\n",
      "  Using cached transformers-4.47.0-py3-none-any.whl.metadata (43 kB)\n",
      "  Using cached transformers-4.46.3-py3-none-any.whl.metadata (44 kB)\n",
      "Requirement already satisfied: safetensors>=0.4.1 in /usr/local/lib/python3.11/dist-packages (from transformers->-r requirements.txt (line 8)) (0.5.2)\n",
      "Requirement already satisfied: aiohappyeyeballs>=2.3.0 in /usr/local/lib/python3.11/dist-packages (from aiohttp<=3.10.11,>=3.9.0->inference-gpu->-r requirements.txt (line 5)) (2.4.6)\n",
      "Requirement already satisfied: aiosignal>=1.1.2 in /usr/local/lib/python3.11/dist-packages (from aiohttp<=3.10.11,>=3.9.0->inference-gpu->-r requirements.txt (line 5)) (1.3.2)\n",
      "Requirement already satisfied: attrs>=17.3.0 in /usr/local/lib/python3.11/dist-packages (from aiohttp<=3.10.11,>=3.9.0->inference-gpu->-r requirements.txt (line 5)) (25.1.0)\n",
      "Requirement already satisfied: frozenlist>=1.1.1 in /usr/local/lib/python3.11/dist-packages (from aiohttp<=3.10.11,>=3.9.0->inference-gpu->-r requirements.txt (line 5)) (1.5.0)\n",
      "Requirement already satisfied: multidict<7.0,>=4.5 in /usr/local/lib/python3.11/dist-packages (from aiohttp<=3.10.11,>=3.9.0->inference-gpu->-r requirements.txt (line 5)) (6.1.0)\n",
      "Requirement already satisfied: yarl<2.0,>=1.12.0 in /usr/local/lib/python3.11/dist-packages (from aiohttp<=3.10.11,>=3.9.0->inference-gpu->-r requirements.txt (line 5)) (1.18.3)\n",
      "Requirement already satisfied: aioice<1.0.0,>=0.9.0 in /usr/local/lib/python3.11/dist-packages (from aiortc~=1.9.0->inference-gpu->-r requirements.txt (line 5)) (0.9.0)\n",
      "Requirement already satisfied: av<13.0.0,>=9.0.0 in /usr/local/lib/python3.11/dist-packages (from aiortc~=1.9.0->inference-gpu->-r requirements.txt (line 5)) (12.3.0)\n",
      "Requirement already satisfied: cffi>=1.0.0 in /usr/local/lib/python3.11/dist-packages (from aiortc~=1.9.0->inference-gpu->-r requirements.txt (line 5)) (1.17.1)\n",
      "Requirement already satisfied: cryptography>=42.0.0 in /usr/local/lib/python3.11/dist-packages (from aiortc~=1.9.0->inference-gpu->-r requirements.txt (line 5)) (43.0.3)\n",
      "Requirement already satisfied: google-crc32c>=1.1 in /usr/local/lib/python3.11/dist-packages (from aiortc~=1.9.0->inference-gpu->-r requirements.txt (line 5)) (1.6.0)\n",
      "Requirement already satisfied: pyee>=9.0.0 in /usr/local/lib/python3.11/dist-packages (from aiortc~=1.9.0->inference-gpu->-r requirements.txt (line 5)) (12.1.1)\n",
      "Requirement already satisfied: pylibsrtp>=0.10.0 in /usr/local/lib/python3.11/dist-packages (from aiortc~=1.9.0->inference-gpu->-r requirements.txt (line 5)) (0.11.0)\n",
      "Requirement already satisfied: pyopenssl>=24.0.0 in /usr/local/lib/python3.11/dist-packages (from aiortc~=1.9.0->inference-gpu->-r requirements.txt (line 5)) (24.2.1)\n",
      "Requirement already satisfied: anyio<5,>=3.5.0 in /usr/local/lib/python3.11/dist-packages (from anthropic~=0.34.2->inference-gpu->-r requirements.txt (line 5)) (3.7.1)\n",
      "Requirement already satisfied: distro<2,>=1.7.0 in /usr/local/lib/python3.11/dist-packages (from anthropic~=0.34.2->inference-gpu->-r requirements.txt (line 5)) (1.9.0)\n",
      "Requirement already satisfied: jiter<1,>=0.4.0 in /usr/local/lib/python3.11/dist-packages (from anthropic~=0.34.2->inference-gpu->-r requirements.txt (line 5)) (0.8.2)\n",
      "Requirement already satisfied: sniffio in /usr/local/lib/python3.11/dist-packages (from anthropic~=0.34.2->inference-gpu->-r requirements.txt (line 5)) (1.3.1)\n",
      "Requirement already satisfied: tzlocal>=3.0 in /usr/local/lib/python3.11/dist-packages (from APScheduler<4.0.0,>=3.10.1->inference-gpu->-r requirements.txt (line 5)) (5.2)\n",
      "Requirement already satisfied: aiofiles in /usr/local/lib/python3.11/dist-packages (from asyncua~=1.1.5->inference-gpu->-r requirements.txt (line 5)) (24.1.0)\n",
      "Requirement already satisfied: aiosqlite in /usr/local/lib/python3.11/dist-packages (from asyncua~=1.1.5->inference-gpu->-r requirements.txt (line 5)) (0.21.0)\n",
      "Requirement already satisfied: pytz in /usr/local/lib/python3.11/dist-packages (from asyncua~=1.1.5->inference-gpu->-r requirements.txt (line 5)) (2025.1)\n",
      "Requirement already satisfied: sortedcontainers in /usr/local/lib/python3.11/dist-packages (from asyncua~=1.1.5->inference-gpu->-r requirements.txt (line 5)) (2.4.0)\n",
      "Collecting botocore<1.36.0,>=1.35.60 (from boto3<=1.35.60->inference-gpu->-r requirements.txt (line 5))\n",
      "  Using cached botocore-1.35.99-py3-none-any.whl.metadata (5.7 kB)\n",
      "Requirement already satisfied: jmespath<2.0.0,>=0.7.1 in /usr/local/lib/python3.11/dist-packages (from boto3<=1.35.60->inference-gpu->-r requirements.txt (line 5)) (1.0.1)\n",
      "Collecting s3transfer<0.11.0,>=0.10.0 (from boto3<=1.35.60->inference-gpu->-r requirements.txt (line 5))\n",
      "  Using cached s3transfer-0.10.4-py3-none-any.whl.metadata (1.7 kB)\n",
      "Requirement already satisfied: marshmallow<4.0.0,>=3.18.0 in /usr/local/lib/python3.11/dist-packages (from dataclasses-json~=0.6.0->inference-gpu->-r requirements.txt (line 5)) (3.26.1)\n",
      "Requirement already satisfied: typing-inspect<1,>=0.4.0 in /usr/local/lib/python3.11/dist-packages (from dataclasses-json~=0.6.0->inference-gpu->-r requirements.txt (line 5)) (0.9.0)\n",
      "Collecting starlette<0.38.0,>=0.37.2 (from fastapi<0.111,>=0.100->inference-gpu->-r requirements.txt (line 5))\n",
      "  Using cached starlette-0.37.2-py3-none-any.whl.metadata (5.9 kB)\n",
      "Requirement already satisfied: httpcore==1.* in /usr/local/lib/python3.11/dist-packages (from httpx<0.28.0,>=0.25.1->inference-gpu->-r requirements.txt (line 5)) (1.0.7)\n",
      "Requirement already satisfied: h11<0.15,>=0.13 in /usr/local/lib/python3.11/dist-packages (from httpcore==1.*->httpx<0.28.0,>=0.25.1->inference-gpu->-r requirements.txt (line 5)) (0.14.0)\n",
      "Requirement already satisfied: fsspec>=2023.5.0 in /usr/local/lib/python3.11/dist-packages (from huggingface-hub<1.0,>=0.24.0->transformers->-r requirements.txt (line 8)) (2024.10.0)\n",
      "Requirement already satisfied: fonttools>=4.22.0 in /usr/local/lib/python3.11/dist-packages (from matplotlib>=3.3.0->ultralytics->-r requirements.txt (line 1)) (4.56.0)\n",
      "Requirement already satisfied: pyparsing>=2.3.1 in /usr/local/lib/python3.11/dist-packages (from matplotlib>=3.3.0->ultralytics->-r requirements.txt (line 1)) (3.2.1)\n",
      "Requirement already satisfied: llvmlite<0.45,>=0.44.0dev0 in /usr/local/lib/python3.11/dist-packages (from numba>=0.51.2->umap-learn->-r requirements.txt (line 6)) (0.44.0)\n",
      "Collecting coloredlogs (from onnxruntime-gpu<1.20.0,>=1.15.1->inference-gpu->-r requirements.txt (line 5))\n",
      "  Using cached coloredlogs-15.0.1-py2.py3-none-any.whl.metadata (12 kB)\n",
      "Requirement already satisfied: flatbuffers in /usr/local/lib/python3.11/dist-packages (from onnxruntime-gpu<1.20.0,>=1.15.1->inference-gpu->-r requirements.txt (line 5)) (25.2.10)\n",
      "Requirement already satisfied: protobuf in /usr/local/lib/python3.11/dist-packages (from onnxruntime-gpu<1.20.0,>=1.15.1->inference-gpu->-r requirements.txt (line 5)) (4.25.6)\n",
      "Requirement already satisfied: sympy in /usr/local/lib/python3.11/dist-packages (from onnxruntime-gpu<1.20.0,>=1.15.1->inference-gpu->-r requirements.txt (line 5)) (1.13.1)\n",
      "Requirement already satisfied: tzdata>=2022.7 in /usr/local/lib/python3.11/dist-packages (from pandas>=1.1.4->ultralytics->-r requirements.txt (line 1)) (2025.1)\n",
      "Requirement already satisfied: prometheus-client<1.0.0,>=0.8.0 in /usr/local/lib/python3.11/dist-packages (from prometheus-fastapi-instrumentator<=6.0.0->inference-gpu->-r requirements.txt (line 5)) (0.21.1)\n",
      "Requirement already satisfied: annotated-types>=0.6.0 in /usr/local/lib/python3.11/dist-packages (from pydantic~=2.6->inference-gpu->-r requirements.txt (line 5)) (0.7.0)\n",
      "Requirement already satisfied: pydantic-core==2.27.2 in /usr/local/lib/python3.11/dist-packages (from pydantic~=2.6->inference-gpu->-r requirements.txt (line 5)) (2.27.2)\n",
      "Requirement already satisfied: joblib>=0.11 in /usr/local/lib/python3.11/dist-packages (from pynndescent>=0.5->umap-learn->-r requirements.txt (line 6)) (1.4.2)\n",
      "Requirement already satisfied: iniconfig in /usr/local/lib/python3.11/dist-packages (from pytest<9.0.0,>=8.0.0->inference-gpu->-r requirements.txt (line 5)) (2.0.0)\n",
      "Requirement already satisfied: pluggy<2,>=1.5 in /usr/local/lib/python3.11/dist-packages (from pytest<9.0.0,>=8.0.0->inference-gpu->-r requirements.txt (line 5)) (1.5.0)\n",
      "Requirement already satisfied: charset-normalizer<4,>=2 in /usr/local/lib/python3.11/dist-packages (from requests>=2.23.0->ultralytics->-r requirements.txt (line 1)) (3.4.1)\n",
      "Requirement already satisfied: commonmark<0.10.0,>=0.9.0 in /usr/local/lib/python3.11/dist-packages (from rich<13.10.0,>=13.0.0->inference-gpu->-r requirements.txt (line 5)) (0.9.1)\n",
      "Requirement already satisfied: pygments<3.0.0,>=2.6.0 in /usr/local/lib/python3.11/dist-packages (from rich<13.10.0,>=13.0.0->inference-gpu->-r requirements.txt (line 5)) (2.18.0)\n",
      "Requirement already satisfied: imageio>=2.33 in /usr/local/lib/python3.11/dist-packages (from scikit-image<=0.24.0,>=0.19.0->inference-gpu->-r requirements.txt (line 5)) (2.37.0)\n",
      "Requirement already satisfied: tifffile>=2022.8.12 in /usr/local/lib/python3.11/dist-packages (from scikit-image<=0.24.0,>=0.19.0->inference-gpu->-r requirements.txt (line 5)) (2025.1.10)\n",
      "Requirement already satisfied: lazy-loader>=0.4 in /usr/local/lib/python3.11/dist-packages (from scikit-image<=0.24.0,>=0.19.0->inference-gpu->-r requirements.txt (line 5)) (0.4)\n",
      "Requirement already satisfied: threadpoolctl>=3.1.0 in /usr/local/lib/python3.11/dist-packages (from scikit-learn>=0.22->umap-learn->-r requirements.txt (line 6)) (3.5.0)\n",
      "Collecting requests-file>=1.4 (from tldextract~=5.1.2->inference-gpu->-r requirements.txt (line 5))\n",
      "  Using cached requests_file-2.1.0-py2.py3-none-any.whl.metadata (1.7 kB)\n",
      "Requirement already satisfied: jinja2 in /usr/local/lib/python3.11/dist-packages (from torch>=1.8.0->ultralytics->-r requirements.txt (line 1)) (3.1.5)\n",
      "Requirement already satisfied: nvidia-cuda-nvrtc-cu12==12.4.127 in /usr/local/lib/python3.11/dist-packages (from torch>=1.8.0->ultralytics->-r requirements.txt (line 1)) (12.4.127)\n",
      "Requirement already satisfied: nvidia-cuda-runtime-cu12==12.4.127 in /usr/local/lib/python3.11/dist-packages (from torch>=1.8.0->ultralytics->-r requirements.txt (line 1)) (12.4.127)\n",
      "Requirement already satisfied: nvidia-cuda-cupti-cu12==12.4.127 in /usr/local/lib/python3.11/dist-packages (from torch>=1.8.0->ultralytics->-r requirements.txt (line 1)) (12.4.127)\n",
      "Collecting nvidia-cudnn-cu12==9.1.0.70 (from torch>=1.8.0->ultralytics->-r requirements.txt (line 1))\n",
      "  Using cached nvidia_cudnn_cu12-9.1.0.70-py3-none-manylinux2014_x86_64.whl.metadata (1.6 kB)\n",
      "Requirement already satisfied: nvidia-cublas-cu12==12.4.5.8 in /usr/local/lib/python3.11/dist-packages (from torch>=1.8.0->ultralytics->-r requirements.txt (line 1)) (12.4.5.8)\n",
      "Requirement already satisfied: nvidia-cufft-cu12==11.2.1.3 in /usr/local/lib/python3.11/dist-packages (from torch>=1.8.0->ultralytics->-r requirements.txt (line 1)) (11.2.1.3)\n",
      "Requirement already satisfied: nvidia-curand-cu12==10.3.5.147 in /usr/local/lib/python3.11/dist-packages (from torch>=1.8.0->ultralytics->-r requirements.txt (line 1)) (10.3.5.147)\n",
      "Collecting nvidia-cusolver-cu12==11.6.1.9 (from torch>=1.8.0->ultralytics->-r requirements.txt (line 1))\n",
      "  Using cached nvidia_cusolver_cu12-11.6.1.9-py3-none-manylinux2014_x86_64.whl.metadata (1.6 kB)\n",
      "Requirement already satisfied: nvidia-cusparse-cu12==12.3.1.170 in /usr/local/lib/python3.11/dist-packages (from torch>=1.8.0->ultralytics->-r requirements.txt (line 1)) (12.3.1.170)\n",
      "Requirement already satisfied: nvidia-nccl-cu12==2.21.5 in /usr/local/lib/python3.11/dist-packages (from torch>=1.8.0->ultralytics->-r requirements.txt (line 1)) (2.21.5)\n",
      "Requirement already satisfied: nvidia-nvtx-cu12==12.4.127 in /usr/local/lib/python3.11/dist-packages (from torch>=1.8.0->ultralytics->-r requirements.txt (line 1)) (12.4.127)\n",
      "Requirement already satisfied: nvidia-nvjitlink-cu12==12.4.127 in /usr/local/lib/python3.11/dist-packages (from torch>=1.8.0->ultralytics->-r requirements.txt (line 1)) (12.4.127)\n",
      "Requirement already satisfied: triton==3.1.0 in /usr/local/lib/python3.11/dist-packages (from torch>=1.8.0->ultralytics->-r requirements.txt (line 1)) (3.1.0)\n",
      "Requirement already satisfied: mpmath<1.4,>=1.1.0 in /usr/local/lib/python3.11/dist-packages (from sympy->onnxruntime-gpu<1.20.0,>=1.15.1->inference-gpu->-r requirements.txt (line 5)) (1.3.0)\n",
      "Requirement already satisfied: PyJWT<3.0.0,>=2.0.0 in /usr/local/lib/python3.11/dist-packages (from twilio~=9.3.7->inference-gpu->-r requirements.txt (line 5)) (2.10.1)\n",
      "Collecting aiohttp-retry==2.8.3 (from twilio~=9.3.7->inference-gpu->-r requirements.txt (line 5))\n",
      "  Using cached aiohttp_retry-2.8.3-py3-none-any.whl.metadata (8.9 kB)\n",
      "Requirement already satisfied: click>=8.0.0 in /usr/local/lib/python3.11/dist-packages (from typer<=0.12.5,>=0.9.0->inference-gpu->-r requirements.txt (line 5)) (8.1.8)\n",
      "Requirement already satisfied: shellingham>=1.3.0 in /usr/local/lib/python3.11/dist-packages (from typer<=0.12.5,>=0.9.0->inference-gpu->-r requirements.txt (line 5)) (1.5.4)\n",
      "Requirement already satisfied: dnspython>=2.0.0 in /usr/local/lib/python3.11/dist-packages (from aioice<1.0.0,>=0.9.0->aiortc~=1.9.0->inference-gpu->-r requirements.txt (line 5)) (2.7.0)\n",
      "Requirement already satisfied: ifaddr>=0.2.0 in /usr/local/lib/python3.11/dist-packages (from aioice<1.0.0,>=0.9.0->aiortc~=1.9.0->inference-gpu->-r requirements.txt (line 5)) (0.2.0)\n",
      "Requirement already satisfied: pycparser in /usr/local/lib/python3.11/dist-packages (from cffi>=1.0.0->aiortc~=1.9.0->inference-gpu->-r requirements.txt (line 5)) (2.22)\n",
      "Requirement already satisfied: mypy-extensions>=0.3.0 in /root/.local/lib/python3.11/site-packages (from typing-inspect<1,>=0.4.0->dataclasses-json~=0.6.0->inference-gpu->-r requirements.txt (line 5)) (1.0.0)\n",
      "Requirement already satisfied: propcache>=0.2.0 in /usr/local/lib/python3.11/dist-packages (from yarl<2.0,>=1.12.0->aiohttp<=3.10.11,>=3.9.0->inference-gpu->-r requirements.txt (line 5)) (0.2.1)\n",
      "Requirement already satisfied: humanfriendly>=9.1 in /usr/local/lib/python3.11/dist-packages (from coloredlogs->onnxruntime-gpu<1.20.0,>=1.15.1->inference-gpu->-r requirements.txt (line 5)) (10.0)\n",
      "Requirement already satisfied: MarkupSafe>=2.0 in /usr/local/lib/python3.11/dist-packages (from jinja2->torch>=1.8.0->ultralytics->-r requirements.txt (line 1)) (3.0.2)\n",
      "Using cached ultralytics-8.3.75-py3-none-any.whl (914 kB)\n",
      "Using cached roboflow-1.1.54-py3-none-any.whl (83 kB)\n",
      "Using cached supervision-0.25.1-py3-none-any.whl (181 kB)\n",
      "Using cached inference_gpu-0.37.1-py3-none-any.whl (976 kB)\n",
      "Using cached umap_learn-0.5.7-py3-none-any.whl (88 kB)\n",
      "Using cached transformers-4.46.3-py3-none-any.whl (10.0 MB)\n",
      "Using cached aiohttp-3.10.11-cp311-cp311-manylinux_2_17_x86_64.manylinux2014_x86_64.whl (1.3 MB)\n",
      "Using cached aiortc-1.9.0-cp38-abi3-manylinux_2_17_x86_64.manylinux2014_x86_64.whl (1.9 MB)\n",
      "Using cached anthropic-0.34.2-py3-none-any.whl (891 kB)\n",
      "Using cached asyncua-1.1.5-py3-none-any.whl (774 kB)\n",
      "Using cached boto3-1.35.60-py3-none-any.whl (139 kB)\n",
      "Using cached dataclasses_json-0.6.7-py3-none-any.whl (28 kB)\n",
      "Using cached docker-7.1.0-py3-none-any.whl (147 kB)\n",
      "Using cached fastapi-0.110.3-py3-none-any.whl (91 kB)\n",
      "Using cached httpx-0.27.2-py3-none-any.whl (76 kB)\n",
      "Using cached onnxruntime_gpu-1.19.2-cp311-cp311-manylinux_2_27_x86_64.manylinux_2_28_x86_64.whl (226.2 MB)\n",
      "Using cached prometheus_fastapi_instrumentator-6.0.0-py3-none-any.whl (18 kB)\n",
      "Using cached pydantic_settings-2.7.1-py3-none-any.whl (29 kB)\n",
      "Using cached pynndescent-0.5.13-py3-none-any.whl (56 kB)\n",
      "Using cached scikit_image-0.24.0-cp311-cp311-manylinux_2_17_x86_64.manylinux2014_x86_64.whl (14.9 MB)\n",
      "Using cached tldextract-5.1.3-py3-none-any.whl (104 kB)\n",
      "Using cached tokenizers-0.20.3-cp311-cp311-manylinux_2_17_x86_64.manylinux2014_x86_64.whl (3.0 MB)\n",
      "Using cached nvidia_cudnn_cu12-9.1.0.70-py3-none-manylinux2014_x86_64.whl (664.8 MB)\n",
      "Using cached nvidia_cusolver_cu12-11.6.1.9-py3-none-manylinux2014_x86_64.whl (127.9 MB)\n",
      "Using cached twilio-9.3.8-py2.py3-none-any.whl (1.8 MB)\n",
      "Using cached aiohttp_retry-2.8.3-py3-none-any.whl (9.8 kB)\n",
      "Using cached ultralytics_thop-2.0.14-py3-none-any.whl (26 kB)\n",
      "Using cached botocore-1.35.99-py3-none-any.whl (13.3 MB)\n",
      "Using cached requests_file-2.1.0-py2.py3-none-any.whl (4.2 kB)\n",
      "Using cached s3transfer-0.10.4-py3-none-any.whl (83 kB)\n",
      "Using cached starlette-0.37.2-py3-none-any.whl (71 kB)\n",
      "Using cached coloredlogs-15.0.1-py2.py3-none-any.whl (46 kB)\n",
      "\u001b[33mWARNING: Ignoring invalid distribution ~vidia-cudnn-cu12 (/usr/local/lib/python3.11/dist-packages)\u001b[0m\u001b[33m\n",
      "\u001b[0mInstalling collected packages: nvidia-cudnn-cu12, coloredlogs, starlette, scikit-image, requests-file, onnxruntime-gpu, nvidia-cusolver-cu12, httpx, docker, dataclasses-json, botocore, aiohttp, tokenizers, tldextract, supervision, s3transfer, roboflow, pynndescent, pydantic-settings, fastapi, aiohttp-retry, umap-learn, ultralytics-thop, twilio, transformers, prometheus-fastapi-instrumentator, boto3, asyncua, anthropic, aiortc, ultralytics, inference-gpu\n",
      "  Attempting uninstall: scikit-image\n",
      "    Found existing installation: scikit-image 0.25.1\n",
      "    Uninstalling scikit-image-0.25.1:\n",
      "      Successfully uninstalled scikit-image-0.25.1\n",
      "  Attempting uninstall: nvidia-cusolver-cu12\n",
      "    Found existing installation: nvidia-cusolver-cu12 11.6.3.83\n",
      "    Uninstalling nvidia-cusolver-cu12-11.6.3.83:\n",
      "      Successfully uninstalled nvidia-cusolver-cu12-11.6.3.83\n",
      "  Attempting uninstall: httpx\n",
      "    Found existing installation: httpx 0.28.1\n",
      "    Uninstalling httpx-0.28.1:\n",
      "      Successfully uninstalled httpx-0.28.1\n",
      "  Attempting uninstall: aiohttp\n",
      "    Found existing installation: aiohttp 3.11.12\n",
      "    Uninstalling aiohttp-3.11.12:\n",
      "      Successfully uninstalled aiohttp-3.11.12\n",
      "  Attempting uninstall: tokenizers\n",
      "    Found existing installation: tokenizers 0.21.0\n",
      "    Uninstalling tokenizers-0.21.0:\n",
      "      Successfully uninstalled tokenizers-0.21.0\n",
      "  Attempting uninstall: transformers\n",
      "    Found existing installation: transformers 4.48.3\n",
      "    Uninstalling transformers-4.48.3:\n",
      "      Successfully uninstalled transformers-4.48.3\n",
      "Successfully installed aiohttp-3.10.11 aiohttp-retry-2.8.3 aiortc-1.9.0 anthropic-0.34.2 asyncua-1.1.5 boto3-1.35.60 botocore-1.35.99 coloredlogs-15.0.1 dataclasses-json-0.6.7 docker-7.1.0 fastapi-0.110.3 httpx-0.27.2 inference-gpu-0.37.1 nvidia-cudnn-cu12-9.1.0.70 nvidia-cusolver-cu12-11.6.1.9 onnxruntime-gpu-1.19.2 prometheus-fastapi-instrumentator-6.0.0 pydantic-settings-2.7.1 pynndescent-0.5.13 requests-file-2.1.0 roboflow-1.1.54 s3transfer-0.10.4 scikit-image-0.24.0 starlette-0.37.2 supervision-0.25.1 tldextract-5.1.3 tokenizers-0.20.3 transformers-4.46.3 twilio-9.3.8 ultralytics-8.3.75 ultralytics-thop-2.0.14 umap-learn-0.5.7\n"
     ]
    }
   ],
   "source": [
    "!pip install -r requirements.txt"
   ]
  },
  {
   "cell_type": "code",
   "execution_count": null,
   "metadata": {
    "colab": {
     "base_uri": "https://localhost:8080/"
    },
    "executionInfo": {
     "elapsed": 429,
     "status": "ok",
     "timestamp": 1739590400453,
     "user": {
      "displayName": "Thành Đạt Tô",
      "userId": "00907423653334339718"
     },
     "user_tz": -420
    },
    "id": "CpO5MUrvoTux",
    "outputId": "2038a871-ade0-4ede-a93d-8c73e02ba3bc"
   },
   "outputs": [
    {
     "ename": "",
     "evalue": "",
     "output_type": "error",
     "traceback": [
      "\u001b[1;31mRunning cells with 'venv (Python 3.12.8)' requires the ipykernel package.\n",
      "\u001b[1;31mRun the following command to install 'ipykernel' into the Python environment. \n",
      "\u001b[1;31mCommand: 'd:/Project/football_tracking/venv/Scripts/python.exe -m pip install ipykernel -U --force-reinstall'"
     ]
    }
   ],
   "source": [
    "!nvidia-smi"
   ]
  },
  {
   "cell_type": "code",
   "execution_count": 5,
   "metadata": {
    "colab": {
     "base_uri": "https://localhost:8080/"
    },
    "executionInfo": {
     "elapsed": 18556,
     "status": "ok",
     "timestamp": 1739590895638,
     "user": {
      "displayName": "Thành Đạt Tô",
      "userId": "00907423653334339718"
     },
     "user_tz": -420
    },
    "id": "5o8O0X_FoTuy",
    "outputId": "8815212f-9265-4f3e-937f-a183689764f9"
   },
   "outputs": [
    {
     "name": "stdout",
     "output_type": "stream",
     "text": [
      "2025-02-18 11:41:25.181514: E external/local_xla/xla/stream_executor/cuda/cuda_fft.cc:477] Unable to register cuFFT factory: Attempting to register factory for plugin cuFFT when one has already been registered\n",
      "WARNING: All log messages before absl::InitializeLog() is called are written to STDERR\n",
      "E0000 00:00:1739878885.207622    5253 cuda_dnn.cc:8310] Unable to register cuDNN factory: Attempting to register factory for plugin cuDNN when one has already been registered\n",
      "E0000 00:00:1739878885.215609    5253 cuda_blas.cc:1418] Unable to register cuBLAS factory: Attempting to register factory for plugin cuBLAS when one has already been registered\n",
      "2025-02-18 11:41:25.243660: I tensorflow/core/platform/cpu_feature_guard.cc:210] This TensorFlow binary is optimized to use available CPU instructions in performance-critical operations.\n",
      "To enable the following instructions: AVX2 FMA, in other operations, rebuild TensorFlow with the appropriate compiler flags.\n",
      "Specified provider 'OpenVINOExecutionProvider' is not in available provider names.Available providers: 'TensorrtExecutionProvider, CUDAExecutionProvider, CPUExecutionProvider'\n",
      "Specified provider 'CoreMLExecutionProvider' is not in available provider names.Available providers: 'TensorrtExecutionProvider, CUDAExecutionProvider, CPUExecutionProvider'\n"
     ]
    }
   ],
   "source": [
    "!python track.py --video=./datasets/video2.mp4"
   ]
  },
  {
   "cell_type": "code",
   "execution_count": null,
   "metadata": {
    "id": "dVgtMie0oTuy",
    "outputId": "305ba986-497e-44e1-9ae7-9cc956e36378"
   },
   "outputs": [
    {
     "name": "stdout",
     "output_type": "stream",
     "text": [
      "hello\n"
     ]
    }
   ],
   "source": [
    "print(\"hello\")"
   ]
  }
 ],
 "metadata": {
  "accelerator": "GPU",
  "colab": {
   "gpuType": "T4",
   "provenance": []
  },
  "kernelspec": {
   "display_name": "venv",
   "language": "python",
   "name": "python3"
  },
  "language_info": {
   "codemirror_mode": {
    "name": "ipython",
    "version": 3
   },
   "file_extension": ".py",
   "mimetype": "text/x-python",
   "name": "python",
   "nbconvert_exporter": "python",
   "pygments_lexer": "ipython3",
   "version": "3.12.8"
  }
 },
 "nbformat": 4,
 "nbformat_minor": 0
}
